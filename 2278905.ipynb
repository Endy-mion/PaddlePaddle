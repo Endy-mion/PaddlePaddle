{
 "cells": [
  {
   "cell_type": "markdown",
   "metadata": {
    "collapsed": false
   },
   "source": [
    "# 基于PaddleX的X光安检机打火机检测\n",
    "\n",
    "针对X光安检机扫描结果进行目标检测，检测目标为打火机。\n",
    "\n",
    "# 一、项目背景\n",
    "\n",
    "项目构想始于训练营第一课，四位导师从工作、生活、爱好三个方面阐述了优秀的项目创意来源，该项目也是始于生活发现，七月底国内疫情反复，高铁站、地铁等公共交通场所实施严格的安检，本人从武汉回家时亲身体验了安检场所的拥堵问题，而该项目如果落地，则从一定程度上提高了安检效率，减少了人力消耗，同时也减少了安检场所的人员聚集现象，有助于疫情防控。\n",
    "\n",
    "# 二、数据集简介\n",
    "\n",
    "本项目使用AIStudio公开数据集：[安检X光图片](http://aistudio.baidu.com/aistudio/datasetdetail/67989)\n",
    "\n",
    "<font size=\"3\" color=\"red\">特别注意，该数据集中没有划分预测集，且两个划分数据集的split files中‘/’都是反的，直接使用会找不到路径报错，这里使用PaddleX重新划分数据集</font>\n",
    "\n"
   ]
  },
  {
   "cell_type": "code",
   "execution_count": 1,
   "metadata": {
    "collapsed": false
   },
   "outputs": [],
   "source": [
    "# 解压数据集（解压一次即可，请勿重复解压）\r\n",
    "!unzip -oq /home/aistudio/D0002.zip -d /home/aistudio/data/"
   ]
  },
  {
   "cell_type": "code",
   "execution_count": 2,
   "metadata": {
    "collapsed": false
   },
   "outputs": [],
   "source": [
    "# 安装PaddleX\r\n",
    "!pip install paddlex"
   ]
  },
  {
   "cell_type": "code",
   "execution_count": 3,
   "metadata": {
    "collapsed": false
   },
   "outputs": [],
   "source": [
    "# 按照7:2:1重新划分数据集\r\n",
    "!paddlex --split_dataset --format VOC --dataset_dir data/D0002 --val_value 0.2 --test_value 0.1"
   ]
  },
  {
   "cell_type": "code",
   "execution_count": 4,
   "metadata": {
    "collapsed": false
   },
   "outputs": [],
   "source": [
    "# 查看数据集文件结构\r\n",
    "!tree /home/aistudio/data/D0002 -L 1"
   ]
  },
  {
   "cell_type": "markdown",
   "metadata": {
    "collapsed": false
   },
   "source": [
    "# 三、模型选择\n",
    "\n",
    "本项目使用PaddleX套件yolov3_mobilenetv1模型进行训练\n"
   ]
  },
  {
   "cell_type": "markdown",
   "metadata": {
    "collapsed": false
   },
   "source": [
    "# 四、开始训练\n",
    "\n",
    "## 首先预处理图片数据集"
   ]
  },
  {
   "cell_type": "code",
   "execution_count": 5,
   "metadata": {
    "collapsed": false
   },
   "outputs": [],
   "source": [
    "#设置训练GPU\r\n",
    "import os\r\n",
    "os.environ['CUDA_VISIBLE_DEVICES'] = '0'"
   ]
  },
  {
   "cell_type": "code",
   "execution_count": 6,
   "metadata": {
    "collapsed": false
   },
   "outputs": [],
   "source": [
    "from paddlex.det import transforms\r\n",
    "\r\n",
    "# 定义训练和验证时的transforms，这里使用了mixup,randomdistort,resize,normalize四个处理手段，()内留空为使用默认参数设置\r\n",
    "# API说明 https://paddlex.readthedocs.io/zh_CN/develop/apis/transforms/det_transforms.html\r\n",
    "\r\n",
    "train_transforms = transforms.Compose([\r\n",
    "    transforms.MixupImage(mixup_epoch=250), transforms.RandomDistort(),\r\n",
    "    transforms.Resize(target_size=608, interp='RANDOM'), \r\n",
    "    transforms.Normalize()\r\n",
    "])\r\n",
    "\r\n",
    "eval_transforms = transforms.Compose([\r\n",
    "    transforms.Resize(\r\n",
    "        target_size=608, interp='CUBIC'), transforms.Normalize()\r\n",
    "])"
   ]
  },
  {
   "cell_type": "code",
   "execution_count": 7,
   "metadata": {
    "collapsed": false
   },
   "outputs": [],
   "source": [
    "import paddlex as pdx\r\n",
    "# 定义训练和验证所用的数据集\r\n",
    "# API说明：https://paddlex.readthedocs.io/zh_CN/develop/apis/datasets.html#paddlex-datasets-vocdetection\r\n",
    "train_dataset = pdx.datasets.VOCDetection(\r\n",
    "    data_dir='data/D0002',\r\n",
    "    file_list='data/D0002/train_list.txt',\r\n",
    "    label_list='data/D0002/labels.txt',\r\n",
    "    transforms=train_transforms,\r\n",
    "    shuffle=True)\r\n",
    "\r\n",
    "eval_dataset = pdx.datasets.VOCDetection(\r\n",
    "    data_dir='data/D0002',\r\n",
    "    file_list='data/D0002/val_list.txt',\r\n",
    "    label_list='data/D0002/labels.txt',\r\n",
    "    transforms=eval_transforms)"
   ]
  },
  {
   "cell_type": "markdown",
   "metadata": {
    "collapsed": false
   },
   "source": [
    "## 调整参数 开始炼丹！\n",
    "\n",
    "调参是影响训练结果的关键，本案例调参相对简单（因为没学到家），大家可以反复尝试，了解各参数训练过程产生的影响"
   ]
  },
  {
   "cell_type": "code",
   "execution_count": 17,
   "metadata": {
    "collapsed": false
   },
   "outputs": [],
   "source": [
    "# 初始化模型\r\n",
    "# API说明: https://paddlex.readthedocs.io/zh_CN/develop/apis/models/detection.html#paddlex-det-yolov3\r\n",
    "model = pdx.det.YOLOv3(num_classes=len(train_dataset.labels), backbone='MobileNetV1')"
   ]
  },
  {
   "cell_type": "code",
   "execution_count": 18,
   "metadata": {
    "collapsed": false
   },
   "outputs": [
    {
     "name": "stderr",
     "output_type": "stream",
     "text": [
      "/opt/conda/envs/python35-paddle120-env/lib/python3.7/site-packages/paddle/fluid/framework.py:706: DeprecationWarning: `np.bool` is a deprecated alias for the builtin `bool`. To silence this warning, use `bool` by itself. Doing this will not modify any behavior and is safe. If you specifically wanted the numpy scalar type, use `np.bool_` here.\n",
      "Deprecated in NumPy 1.20; for more details and guidance: https://numpy.org/devdocs/release/1.20.0-notes.html#deprecations\n",
      "  elif dtype == np.bool:\n"
     ]
    },
    {
     "name": "stdout",
     "output_type": "stream",
     "text": [
      "2021-08-13 04:11:22 [INFO]\tDownloading MobileNetV1_pretrained.tar from http://paddle-imagenet-models-name.bj.bcebos.com/MobileNetV1_pretrained.tar\n"
     ]
    },
    {
     "name": "stderr",
     "output_type": "stream",
     "text": [
      "100%|██████████| 16760/16760 [00:00<00:00, 24974.02KB/s]\n"
     ]
    },
    {
     "name": "stdout",
     "output_type": "stream",
     "text": [
      "2021-08-13 04:11:23 [INFO]\tDecompressing output/yolov3_mobilenetv1/pretrain/MobileNetV1_pretrained.tar...\n",
      "2021-08-13 04:11:28 [INFO]\tLoad pretrain weights from output/yolov3_mobilenetv1/pretrain/MobileNetV1_pretrained.\n",
      "2021-08-13 04:11:28 [INFO]\tThere are 135 varaibles in output/yolov3_mobilenetv1/pretrain/MobileNetV1_pretrained are loaded.\n",
      "2021-08-13 04:11:33 [INFO]\t[TRAIN] Epoch=1/120, Step=2/61, loss=12129.521484, lr=1.3e-05, time_each_step=2.73s, eta=5:38:2\n",
      "2021-08-13 04:11:34 [INFO]\t[TRAIN] Epoch=1/120, Step=4/61, loss=549.389954, lr=3.8e-05, time_each_step=1.52s, eta=3:7:33\n",
      "2021-08-13 04:11:35 [INFO]\t[TRAIN] Epoch=1/120, Step=6/61, loss=40.596058, lr=6.3e-05, time_each_step=1.19s, eta=2:27:40\n",
      "2021-08-13 04:11:36 [INFO]\t[TRAIN] Epoch=1/120, Step=8/61, loss=31.121754, lr=8.8e-05, time_each_step=1.04s, eta=2:8:17\n",
      "2021-08-13 04:11:38 [INFO]\t[TRAIN] Epoch=1/120, Step=10/61, loss=29.68313, lr=0.000113, time_each_step=0.99s, eta=2:2:18\n",
      "2021-08-13 04:11:39 [INFO]\t[TRAIN] Epoch=1/120, Step=12/61, loss=48.704437, lr=0.000138, time_each_step=0.91s, eta=1:52:4\n",
      "2021-08-13 04:11:40 [INFO]\t[TRAIN] Epoch=1/120, Step=14/61, loss=70.920982, lr=0.000163, time_each_step=0.84s, eta=1:44:5\n",
      "2021-08-13 04:11:41 [INFO]\t[TRAIN] Epoch=1/120, Step=16/61, loss=62.296227, lr=0.000188, time_each_step=0.81s, eta=1:40:13\n",
      "2021-08-13 04:11:42 [INFO]\t[TRAIN] Epoch=1/120, Step=18/61, loss=73.809616, lr=0.000213, time_each_step=0.76s, eta=1:34:25\n",
      "2021-08-13 04:11:43 [INFO]\t[TRAIN] Epoch=1/120, Step=20/61, loss=44.811012, lr=0.000238, time_each_step=0.75s, eta=1:32:22\n",
      "2021-08-13 04:11:44 [INFO]\t[TRAIN] Epoch=1/120, Step=22/61, loss=52.696793, lr=0.000263, time_each_step=0.52s, eta=1:3:40\n",
      "2021-08-13 04:11:45 [INFO]\t[TRAIN] Epoch=1/120, Step=24/61, loss=47.314762, lr=0.000288, time_each_step=0.54s, eta=1:6:43\n",
      "2021-08-13 04:11:46 [INFO]\t[TRAIN] Epoch=1/120, Step=26/61, loss=44.129475, lr=0.000313, time_each_step=0.56s, eta=1:8:28\n",
      "2021-08-13 04:11:47 [INFO]\t[TRAIN] Epoch=1/120, Step=28/61, loss=48.264126, lr=0.000338, time_each_step=0.54s, eta=1:6:22\n",
      "2021-08-13 04:11:48 [INFO]\t[TRAIN] Epoch=1/120, Step=30/61, loss=23.57769, lr=0.000363, time_each_step=0.52s, eta=1:4:33\n",
      "2021-08-13 04:11:49 [INFO]\t[TRAIN] Epoch=1/120, Step=32/61, loss=39.604366, lr=0.000388, time_each_step=0.54s, eta=1:6:27\n",
      "2021-08-13 04:11:50 [INFO]\t[TRAIN] Epoch=1/120, Step=34/61, loss=73.209, lr=0.000412, time_each_step=0.54s, eta=1:7:6\n",
      "2021-08-13 04:11:52 [INFO]\t[TRAIN] Epoch=1/120, Step=36/61, loss=60.902359, lr=0.000438, time_each_step=0.55s, eta=1:7:39\n",
      "2021-08-13 04:11:53 [INFO]\t[TRAIN] Epoch=1/120, Step=38/61, loss=45.124359, lr=0.000463, time_each_step=0.57s, eta=1:9:37\n",
      "2021-08-13 04:11:54 [INFO]\t[TRAIN] Epoch=1/120, Step=40/61, loss=50.147755, lr=0.000488, time_each_step=0.55s, eta=1:8:20\n",
      "2021-08-13 04:11:55 [INFO]\t[TRAIN] Epoch=1/120, Step=42/61, loss=38.198357, lr=0.000513, time_each_step=0.58s, eta=1:11:18\n",
      "2021-08-13 04:11:57 [INFO]\t[TRAIN] Epoch=1/120, Step=44/61, loss=197.998611, lr=0.000538, time_each_step=0.6s, eta=1:13:44\n",
      "2021-08-13 04:11:58 [INFO]\t[TRAIN] Epoch=1/120, Step=46/61, loss=95.811569, lr=0.000563, time_each_step=0.58s, eta=1:10:51\n",
      "2021-08-13 04:11:59 [INFO]\t[TRAIN] Epoch=1/120, Step=48/61, loss=47.999023, lr=0.000588, time_each_step=0.62s, eta=1:15:39\n",
      "2021-08-13 04:12:00 [INFO]\t[TRAIN] Epoch=1/120, Step=50/61, loss=1432.231689, lr=0.000613, time_each_step=0.6s, eta=1:13:10\n",
      "2021-08-13 04:12:01 [INFO]\t[TRAIN] Epoch=1/120, Step=52/61, loss=155.31485, lr=0.000638, time_each_step=0.57s, eta=1:10:40\n",
      "2021-08-13 04:12:02 [INFO]\t[TRAIN] Epoch=1/120, Step=54/61, loss=259.025146, lr=0.000663, time_each_step=0.58s, eta=1:11:18\n",
      "2021-08-13 04:12:03 [INFO]\t[TRAIN] Epoch=1/120, Step=56/61, loss=150.851395, lr=0.000688, time_each_step=0.58s, eta=1:11:15\n",
      "2021-08-13 04:12:04 [INFO]\t[TRAIN] Epoch=1/120, Step=58/61, loss=436.809143, lr=0.000713, time_each_step=0.57s, eta=1:9:33\n",
      "2021-08-13 04:12:05 [INFO]\t[TRAIN] Epoch=1/120, Step=60/61, loss=395.566162, lr=0.000738, time_each_step=0.56s, eta=1:9:3\n",
      "2021-08-13 04:12:06 [INFO]\t[TRAIN] Epoch 1 finished, loss=632.158691, lr=0.000375 .\n",
      "2021-08-13 04:12:10 [INFO]\t[TRAIN] Epoch=2/120, Step=1/61, loss=346.64856, lr=0.000763, time_each_step=0.72s, eta=1:16:47\n",
      "2021-08-13 04:12:11 [INFO]\t[TRAIN] Epoch=2/120, Step=3/61, loss=214.006195, lr=0.000788, time_each_step=0.71s, eta=1:16:45\n",
      "2021-08-13 04:12:12 [INFO]\t[TRAIN] Epoch=2/120, Step=5/61, loss=129.771133, lr=0.000813, time_each_step=0.73s, eta=1:16:46\n",
      "2021-08-13 04:12:13 [INFO]\t[TRAIN] Epoch=2/120, Step=7/61, loss=408.872192, lr=0.000838, time_each_step=0.68s, eta=1:16:37\n",
      "2021-08-13 04:12:14 [INFO]\t[TRAIN] Epoch=2/120, Step=9/61, loss=374.443481, lr=0.000863, time_each_step=0.69s, eta=1:16:38\n",
      "2021-08-13 04:12:15 [INFO]\t[TRAIN] Epoch=2/120, Step=11/61, loss=438.919464, lr=0.000888, time_each_step=0.69s, eta=1:16:36\n",
      "2021-08-13 04:12:16 [INFO]\t[TRAIN] Epoch=2/120, Step=13/61, loss=236.876373, lr=0.000913, time_each_step=0.68s, eta=1:16:33\n",
      "2021-08-13 04:12:17 [INFO]\t[TRAIN] Epoch=2/120, Step=15/61, loss=177.594238, lr=0.000938, time_each_step=0.67s, eta=1:16:30\n",
      "2021-08-13 04:12:18 [INFO]\t[TRAIN] Epoch=2/120, Step=17/61, loss=603.145935, lr=0.000963, time_each_step=0.66s, eta=1:16:27\n",
      "2021-08-13 04:12:19 [INFO]\t[TRAIN] Epoch=2/120, Step=19/61, loss=341.026215, lr=0.000988, time_each_step=0.67s, eta=1:16:27\n",
      "2021-08-13 04:12:20 [INFO]\t[TRAIN] Epoch=2/120, Step=21/61, loss=174.258148, lr=0.001013, time_each_step=0.51s, eta=1:16:2\n",
      "2021-08-13 04:12:21 [INFO]\t[TRAIN] Epoch=2/120, Step=23/61, loss=144.172821, lr=0.001038, time_each_step=0.5s, eta=1:16:0\n",
      "2021-08-13 04:12:22 [INFO]\t[TRAIN] Epoch=2/120, Step=25/61, loss=500.811554, lr=0.001063, time_each_step=0.5s, eta=1:15:58\n",
      "2021-08-13 04:12:24 [INFO]\t[TRAIN] Epoch=2/120, Step=27/61, loss=273.745575, lr=0.001088, time_each_step=0.53s, eta=1:16:1\n",
      "2021-08-13 04:12:25 [INFO]\t[TRAIN] Epoch=2/120, Step=29/61, loss=237.553802, lr=0.001113, time_each_step=0.52s, eta=1:15:59\n",
      "2021-08-13 04:12:26 [INFO]\t[TRAIN] Epoch=2/120, Step=31/61, loss=89.892822, lr=0.001138, time_each_step=0.55s, eta=1:16:3\n"
     ]
    }
   ],
   "source": [
    "# 模型训练\r\n",
    "# API说明: https://paddlex.readthedocs.io/zh_CN/develop/apis/models/detection.html#id1\r\n",
    "# 各参数介绍与调整说明：https://paddlex.readthedocs.io/zh_CN/develop/appendix/parameters.html\r\n",
    "model.train(\r\n",
    "    num_epochs=120,\r\n",
    "    train_dataset=train_dataset,\r\n",
    "    train_batch_size=8,\r\n",
    "    eval_dataset=eval_dataset,\r\n",
    "    learning_rate=0.0125,\r\n",
    "    lr_decay_epochs=[210, 240],\r\n",
    "    save_dir='output/yolov3_mobilenetv1')"
   ]
  },
  {
   "cell_type": "markdown",
   "metadata": {
    "collapsed": false
   },
   "source": [
    "## 模型导出 再预测一下\n",
    "\n",
    "这里就不做部署了（因为还没学会）"
   ]
  },
  {
   "cell_type": "code",
   "execution_count": null,
   "metadata": {
    "collapsed": false
   },
   "outputs": [],
   "source": [
    "#导出最佳模型 可用于后续部署\r\n",
    "#部署说明： https://paddlex.readthedocs.io/zh_CN/release-1.3/deploy/export_model.html\r\n",
    "!paddlex --export_inference --model_dir=./output/yolov3_mobilenetv1/best_model --save_dir=./inference_model"
   ]
  },
  {
   "cell_type": "code",
   "execution_count": null,
   "metadata": {
    "collapsed": false
   },
   "outputs": [],
   "source": [
    "# 模型预测 单张图片预测\r\n",
    "import paddlex as pdx\r\n",
    "test_jpg = 'data/D0002/JPEGImages/000366401017449.jpg'\r\n",
    "predictor = pdx.deploy.Predictor('./inference_model')\r\n",
    "result = model.predict(test_jpg)\r\n",
    "pdx.det.visualize(test_jpg, result,  save_dir='./')"
   ]
  },
  {
   "cell_type": "markdown",
   "metadata": {
    "collapsed": false
   },
   "source": [
    "# 五、总结与升华\n",
    "\n",
    "\n",
    "本项目还有很多需要改进之处，比如检测对象不限于打火机，还可以有其他的危险物品；比如模型参数、模型部署还有很多可以调整完善的地方等等，个人认为这个项目落地后实际价值相当不俗，各位大牛如果有心可以在这个方向上继续推进。\n",
    "\n",
    "\n",
    "通过一个月不到的AI达人创造营的活动，我从一个彻彻底底的零基础门外汉，成长到现在能够自己在AIStudio上进行模型训练的小菜鸟，这十几二十天的学习使我受益匪浅，感谢老师们的教学，尤其是最后两天顾茜老师和郑院士的“手把手教学”，前面很多没理解的地方一下有了眉目，在这里提一个小小的建议，像安全帽检测的全流程实战这样的课程其实可以放在最前面讲，可以让我们对PaddlePaddle有一个完整地认知，后面的学习可能会更轻松一些。\n",
    "\n",
    "\n"
   ]
  }
 ],
 "metadata": {
  "kernelspec": {
   "display_name": "PaddlePaddle 2.1.2 (Python 3.5)",
   "language": "python",
   "name": "py35-paddle1.2.0"
  },
  "language_info": {
   "codemirror_mode": {
    "name": "ipython",
    "version": 3
   },
   "file_extension": ".py",
   "mimetype": "text/x-python",
   "name": "python",
   "nbconvert_exporter": "python",
   "pygments_lexer": "ipython3",
   "version": "3.7.4"
  }
 },
 "nbformat": 4,
 "nbformat_minor": 1
}
